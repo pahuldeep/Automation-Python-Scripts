{
 "cells": [
  {
   "cell_type": "code",
   "execution_count": 1,
   "id": "238d7481",
   "metadata": {},
   "outputs": [],
   "source": [
    "from selenium import webdriver\n",
    "\n",
    "from selenium.webdriver.common.by import By\n",
    "from selenium.webdriver.common.keys import Keys\n",
    "\n",
    "import time"
   ]
  },
  {
   "cell_type": "code",
   "execution_count": 2,
   "id": "111e2438",
   "metadata": {},
   "outputs": [],
   "source": [
    "driver = webdriver.Edge()\n",
    "driver.get('https://www.youtube.com/')\n",
    "\n",
    "playlist_url = 'https://www.youtube.com/playlist?list=PLkkGqdBS1r0_cvaLxbh0UvgkS20t9m2w5'\n",
    "driver.get(playlist_url)\n",
    "\n",
    "scrolls = 5\n",
    "for _ in range(scrolls):\n",
    "    driver.find_element(By.TAG_NAME, 'body').send_keys(Keys.END)\n",
    "    time.sleep(2)\n",
    "\n",
    "# Find all the video elements on the page\n",
    "video_elements = driver.find_elements(By.CSS_SELECTOR, 'ytd-playlist-video-renderer')\n",
    "\n",
    "data = {}\n",
    "# Loop through each video element and extract the duration\n",
    "for video_element in video_elements:\n",
    "    video_title = video_element.find_element(By.CSS_SELECTOR, 'h3').text\n",
    "    video_duration = video_element.find_element(By.CSS_SELECTOR, 'span.style-scope.ytd-thumbnail-overlay-time-status-renderer').text\n",
    "    print(f'Title: {video_title} - Duration: {video_duration}')\n",
    "    \n",
    "    data[video_title] = video_duration"
   ]
  },
  {
   "cell_type": "code",
   "execution_count": 6,
   "id": "ce2fcb4b",
   "metadata": {},
   "outputs": [],
   "source": [
    "import pandas as pd"
   ]
  },
  {
   "cell_type": "code",
   "execution_count": 7,
   "id": "45b391d3",
   "metadata": {},
   "outputs": [],
   "source": [
    "pd.DataFrame.from_dict(data, orient='index').to_excel(\"QTvideos.xlsx\")"
   ]
  },
  {
   "cell_type": "code",
   "execution_count": 9,
   "id": "0a32ace5",
   "metadata": {},
   "outputs": [
    {
     "data": {
      "text/plain": [
       "dict_values(['7:35', '10:49', '20:13', '20:23', '22:03', '20:32', '11:24', '19:28', '16:52', '21:28', '11:24', '10:30', '19:58', '22:28', '30:43', '21:58', '31:02', '26:51', '16:49', '27:37', '16:53', '36:48', '14:39', '22:54', '22:59', '14:13', '20:11', '23:15', '14:36', '27:43', '16:47', '46:48', '21:07', '22:05', '25:58', '34:42', '19:17', '19:07', '16:16', '24:54'])"
      ]
     },
     "execution_count": 9,
     "metadata": {},
     "output_type": "execute_result"
    }
   ],
   "source": [
    "data.values()"
   ]
  },
  {
   "cell_type": "code",
   "execution_count": 8,
   "id": "3e30c28e",
   "metadata": {},
   "outputs": [
    {
     "name": "stdout",
     "output_type": "stream",
     "text": [
      "['7', '35']\n",
      "['10', '49']\n",
      "['20', '13']\n",
      "['20', '23']\n",
      "['22', '03']\n",
      "['20', '32']\n",
      "['11', '24']\n",
      "['19', '28']\n",
      "['16', '52']\n",
      "['21', '28']\n",
      "['11', '24']\n",
      "['10', '30']\n",
      "['19', '58']\n",
      "['22', '28']\n",
      "['30', '43']\n",
      "['21', '58']\n",
      "['31', '02']\n",
      "['26', '51']\n",
      "['16', '49']\n",
      "['27', '37']\n",
      "['16', '53']\n",
      "['36', '48']\n",
      "['14', '39']\n",
      "['22', '54']\n",
      "['22', '59']\n",
      "['14', '13']\n",
      "['20', '11']\n",
      "['23', '15']\n",
      "['14', '36']\n",
      "['27', '43']\n",
      "['16', '47']\n",
      "['46', '48']\n",
      "['21', '07']\n",
      "['22', '05']\n",
      "['25', '58']\n",
      "['34', '42']\n",
      "['19', '17']\n",
      "['19', '07']\n",
      "['16', '16']\n",
      "['24', '54']\n"
     ]
    }
   ],
   "source": [
    "total = []\n",
    "for i in data.values():\n",
    "    a = i.split(\":\")\n",
    "    print(a)\n",
    "    if(len(a) == 2):\n",
    "        a.reverse()\n",
    "        a.append(0)\n",
    "        a.reverse()\n",
    "    total.append(a)"
   ]
  },
  {
   "cell_type": "code",
   "execution_count": 18,
   "id": "c41e7d7a",
   "metadata": {},
   "outputs": [],
   "source": [
    "time = pd.DataFrame(total)\n",
    "# print('Hours: ', time[0].astype(int).sum())\n",
    "# print('Minutes/ Hours: ', time[1].astype(int).sum(), time[1].astype(int).sum()//60)\n",
    "# print('Seconds/ Minutes: ', time[2].astype(int).sum(), time[2].astype(int).sum()//60)"
   ]
  },
  {
   "cell_type": "code",
   "execution_count": 20,
   "id": "81b4a1a2",
   "metadata": {},
   "outputs": [],
   "source": [
    "time['Time'] = time[time.columns[:]].apply(lambda x: ':'.join(x.dropna().astype(str)), axis=1)"
   ]
  },
  {
   "cell_type": "code",
   "execution_count": 22,
   "id": "09ab90bc",
   "metadata": {},
   "outputs": [],
   "source": [
    "time.Time.to_csv('time.csv')"
   ]
  },
  {
   "cell_type": "code",
   "execution_count": 13,
   "id": "09adbbfc",
   "metadata": {},
   "outputs": [],
   "source": [
    "df = pd.DataFrame.from_dict(data, orient='index')"
   ]
  },
  {
   "cell_type": "code",
   "execution_count": 15,
   "id": "8bcd163c",
   "metadata": {},
   "outputs": [],
   "source": [
    "df['Duration'] = df[0]\n",
    "df = df.drop(columns=[0])"
   ]
  },
  {
   "cell_type": "code",
   "execution_count": 25,
   "id": "934218d0",
   "metadata": {},
   "outputs": [],
   "source": [
    "df.to_excel('youtube_data.xlsx', index_label='Title')"
   ]
  }
 ],
 "metadata": {
  "kernelspec": {
   "display_name": "Python 3 (ipykernel)",
   "language": "python",
   "name": "python3"
  },
  "language_info": {
   "codemirror_mode": {
    "name": "ipython",
    "version": 3
   },
   "file_extension": ".py",
   "mimetype": "text/x-python",
   "name": "python",
   "nbconvert_exporter": "python",
   "pygments_lexer": "ipython3",
   "version": "3.10.9"
  }
 },
 "nbformat": 4,
 "nbformat_minor": 5
}
